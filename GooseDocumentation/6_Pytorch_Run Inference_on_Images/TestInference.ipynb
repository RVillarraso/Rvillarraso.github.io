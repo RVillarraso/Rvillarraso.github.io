{
 "cells": [
  {
   "cell_type": "code",
   "execution_count": null,
   "id": "7b0440c0-5bfd-4f87-aee0-d204faa8e4e0",
   "metadata": {},
   "outputs": [],
   "source": [
    "## Iterate through images and run inference on them\n",
    "#\n",
    "N_SAMPLES = 10\n",
    "viridis = matplotlib.colormaps['viridis'].resampled(64)\n",
    "for idx in np.random.randint(0, len(test_dataset), min(N_SAMPLES, len(test_dataset))):\n",
    "        # Configure plot\n",
    "        plt.figure()\n",
    "        f, axarr = plt.subplots(1,3)\n",
    "        f.subplots_adjust(hspace=10.0, right=1.5)\n",
    "\n",
    "        axarr[0].set_xlabel(\"RGB\")\n",
    "        axarr[1].set_xlabel(\"Predicted\")\n",
    "        axarr[2].set_xlabel(\"Ground Truth\")\n",
    "\n",
    "        # Get images\n",
    "        img, label = test_dataset[idx]\n",
    "        mask = run_inference(img, model)\n",
    "\n",
    "        imgs = [np.transpose(img, (1, 2, 0)), np.asarray(mask), np.asarray(label)]\n",
    "\n",
    "        for i in range(len(axarr)):\n",
    "            if i != 0:\n",
    "                im = axarr[i].imshow(imgs[i], cmap = viridis)\n",
    "                im.set_clim(0, 64)\n",
    "\n",
    "                # Legend\n",
    "                handles = []\n",
    "                for i_c,c in enumerate(np.unique(imgs[i])):\n",
    "                    segment_id = i_c\n",
    "                    segment_label = c\n",
    "                    label = f\"{segment_label}\"\n",
    "                    color = viridis(segment_label / 63)\n",
    "                    handles.append(mpatches.Patch(color=color, label=label))\n",
    "                axarr[i].legend(handles=handles, bbox_to_anchor=(1.0, 1.00))\n",
    "            else:\n",
    "                im = axarr[i].imshow(imgs[i])\n",
    "\n",
    "        plt.show()"
   ]
  }
 ],
 "metadata": {
  "kernelspec": {
   "display_name": "Python 3 (ipykernel)",
   "language": "python",
   "name": "python3"
  },
  "language_info": {
   "codemirror_mode": {
    "name": "ipython",
    "version": 3
   },
   "file_extension": ".py",
   "mimetype": "text/x-python",
   "name": "python",
   "nbconvert_exporter": "python",
   "pygments_lexer": "ipython3",
   "version": "3.8.18"
  }
 },
 "nbformat": 4,
 "nbformat_minor": 5
}
