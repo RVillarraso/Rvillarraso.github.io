{
 "cells": [
  {
   "cell_type": "code",
   "execution_count": null,
   "id": "7b0440c0-5bfd-4f87-aee0-d204faa8e4e0",
   "metadata": {},
   "outputs": [],
   "source": [
    "from matplotlib import pyplot as plt\n",
    "import matplotlib\n",
    "import matplotlib.patches as mpatches\n",
    "\n",
    "\n",
    "def run_inference(img, model):\n",
    "    '''\n",
    "    Run inference and return semantic mask\n",
    "    '''\n",
    "    if len(img.shape) != 4:\n",
    "        img = torch.unsqueeze(img, 0)\n",
    "    mask = model(img)\n",
    "    masks = torch.sigmoid(mask).squeeze()\n",
    "    label = torch.max(masks, 0)[1]\n",
    "\n",
    "    return label\n",
    "\n",
    "## Import Model\n",
    "#\n",
    "model = model = sg.training.models.get(model_name=Models.DDRNET_39,\n",
    "                        num_classes=64,\n",
    "                        checkpoint_path=\"path/to/checkpoint.pth\")\n",
    "model.eval()"
   ]
  }
 ],
 "metadata": {
  "kernelspec": {
   "display_name": "Python 3 (ipykernel)",
   "language": "python",
   "name": "python3"
  },
  "language_info": {
   "codemirror_mode": {
    "name": "ipython",
    "version": 3
   },
   "file_extension": ".py",
   "mimetype": "text/x-python",
   "name": "python",
   "nbconvert_exporter": "python",
   "pygments_lexer": "ipython3",
   "version": "3.8.18"
  }
 },
 "nbformat": 4,
 "nbformat_minor": 5
}
